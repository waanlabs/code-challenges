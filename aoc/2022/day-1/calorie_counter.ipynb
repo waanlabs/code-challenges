{
 "cells": [
  {
   "attachments": {},
   "cell_type": "markdown",
   "metadata": {},
   "source": [
    "# Day 1: Calorie Counting\n",
    "\n",
    "## Part 1\n",
    "\n",
    "To solve the puzzle, we must first create a list with each item (calories), including empty elements. The code uses `with open` to read the input file, ensuring the file is automatically closed after the read-only operation. It processes the file line by line, removing leading and trailing white spaces and populating a list assigned to the variable `lines`. Finally, the list is displayed on the screen using `print (lines)`."
   ]
  },
  {
   "cell_type": "code",
   "execution_count": null,
   "metadata": {},
   "outputs": [],
   "source": [
    "with open('./puzzle-input.txt', 'r') as file:\n",
    "    lines = [line.strip() for line in file]\n",
    "\n",
    "print (lines)"
   ]
  },
  {
   "attachments": {},
   "cell_type": "markdown",
   "metadata": {},
   "source": [
    "The code processes a list of strings called `lines`, which contains numbers and empty strings. It calculates the sum of consecutive numbers in the list and stores these sums in a new list called `calories_sum_list`. Empty strings in the lines list act as separators between groups of numbers. Finally, the code prints the `calories_sum_list` to the console.\n",
    "\n",
    "The code inside the `for` loop iterates through each line in the `lines` list. If the line is not empty, it adds the integer value of the line to the current sum (`calories_sum`). If the line is empty, it appends the current sum to the `calories_sum_list`, and resets the current sum to 0 for the next group of numbers. After the loop has finished, this line adds the last accumulated `calories_sum` to the `calories_sum_list`."
   ]
  },
  {
   "cell_type": "code",
   "execution_count": null,
   "metadata": {},
   "outputs": [],
   "source": [
    "calories_sum_list = []\n",
    "calories_sum = 0 \n",
    "\n",
    "for line in lines:\n",
    "    if line != '':\n",
    "        calories_sum += int(line)\n",
    "    else:\n",
    "        calories_sum_list.append(calories_sum)\n",
    "        calories_sum = 0\n",
    "\n",
    "calories_sum_list.append(calories_sum)\n",
    "\n",
    "print (calories_sum_list)"
   ]
  },
  {
   "attachments": {},
   "cell_type": "markdown",
   "metadata": {},
   "source": [
    "Answer 1 - Elf carrying the most Calories."
   ]
  },
  {
   "cell_type": "code",
   "execution_count": null,
   "metadata": {},
   "outputs": [],
   "source": [
    "print(max(calories_sum_list)) # 1st answer"
   ]
  },
  {
   "cell_type": "markdown",
   "metadata": {},
   "source": [
    "## Part Two\n"
   ]
  },
  {
   "attachments": {},
   "cell_type": "markdown",
   "metadata": {},
   "source": [
    "Answer 2 - Total calories of the top 3 elves."
   ]
  },
  {
   "cell_type": "code",
   "execution_count": null,
   "metadata": {},
   "outputs": [],
   "source": [
    "print(sum(sorted(calories_sum_list, reverse=True)[:3])) # 2nd answer"
   ]
  }
 ],
 "metadata": {
  "kernelspec": {
   "display_name": "Python 3",
   "language": "python",
   "name": "python3"
  },
  "language_info": {
   "codemirror_mode": {
    "name": "ipython",
    "version": 3
   },
   "file_extension": ".py",
   "mimetype": "text/x-python",
   "name": "python",
   "nbconvert_exporter": "python",
   "pygments_lexer": "ipython3",
   "version": "3.10.12"
  },
  "orig_nbformat": 4,
  "vscode": {
   "interpreter": {
    "hash": "1682e5d06a6d97c1b1cf6bb4ae6cf16223e994936ddb1d53664597d7d46101fa"
   }
  }
 },
 "nbformat": 4,
 "nbformat_minor": 2
}
